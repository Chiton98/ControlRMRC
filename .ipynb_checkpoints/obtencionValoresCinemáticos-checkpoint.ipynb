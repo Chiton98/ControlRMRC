{
 "cells": [
  {
   "cell_type": "markdown",
   "id": "twelve-nursery",
   "metadata": {},
   "source": [
    "# Archivo para obtener los valores cinemáticos"
   ]
  },
  {
   "cell_type": "code",
   "execution_count": 1,
   "id": "manual-scout",
   "metadata": {},
   "outputs": [],
   "source": [
    "from sympy import *\n",
    "import numpy as np\n",
    "from matplotlib import pyplot as plt"
   ]
  },
  {
   "cell_type": "code",
   "execution_count": 12,
   "id": "miniature-auditor",
   "metadata": {},
   "outputs": [],
   "source": [
    "#Definir las variables de articulación\n",
    "q1,q2,q3 = symbols('theta1,theta2,theta3')\n",
    "#Definir longitudes\n",
    "d1,a2,a3,ae = symbols('d1,a2,a3,a_e')\n",
    "#Definir arreglos\n",
    "ai = [0,0,a3,ae]\n",
    "di = [d1,0,0,0]\n",
    "alfa = [0,90/180*np.pi,0,0]\n",
    "theta = [q1,q2,q3,0]\n",
    "#Numero de grados de libertad\n",
    "n = 3"
   ]
  },
  {
   "cell_type": "code",
   "execution_count": 13,
   "id": "disciplinary-irish",
   "metadata": {},
   "outputs": [],
   "source": [
    "#Funcion dh por las articulaciones\n",
    "def dhArt(alfa,a,d,q):\n",
    "    r1 = [cos(q),-sin(q),0,a]\n",
    "    r2 = [sin(q)*round(N(cos(alfa))),cos(q)*round(N(cos(alfa))),round(N(-sin(alfa))),round(N(-sin(alfa)))*d]\n",
    "    r3 = [sin(q)*round(N(sin(alfa))),cos(q)*round(N(sin(alfa))) ,round(N(cos(alfa))) ,round(N(cos(alfa)))*d]\n",
    "    r4 = [0,0,0,1]\n",
    "    return Matrix([r1,r2,r3,r4])"
   ]
  },
  {
   "cell_type": "code",
   "execution_count": 14,
   "id": "several-edgar",
   "metadata": {},
   "outputs": [],
   "source": [
    "#Obtener las matrices de transformación homogénea\n",
    "T01 = dhArt(alfa[0],ai[0],di[0],theta[0])\n",
    "T12 = dhArt(alfa[1],ai[1],di[1],theta[1])\n",
    "T23 = dhArt(alfa[2],ai[2],di[2],theta[2])\n",
    "T3e = dhArt(alfa[3],ai[3],di[3],theta[3])"
   ]
  },
  {
   "cell_type": "code",
   "execution_count": 17,
   "id": "presidential-moment",
   "metadata": {},
   "outputs": [
    {
     "data": {
      "text/latex": [
       "$\\displaystyle \\left[\\begin{matrix}1 & 0 & 0 & a_{e}\\\\0 & 1 & 0 & 0\\\\0 & 0 & 1 & 0\\\\0 & 0 & 0 & 1\\end{matrix}\\right]$"
      ],
      "text/plain": [
       "Matrix([\n",
       "[1, 0, 0, a_e],\n",
       "[0, 1, 0,   0],\n",
       "[0, 0, 1,   0],\n",
       "[0, 0, 0,   1]])"
      ]
     },
     "execution_count": 17,
     "metadata": {},
     "output_type": "execute_result"
    }
   ],
   "source": [
    "T3e"
   ]
  },
  {
   "cell_type": "code",
   "execution_count": 18,
   "id": "existing-eleven",
   "metadata": {},
   "outputs": [],
   "source": [
    "T0e =simplify(T01*T12*T23*T3e)"
   ]
  },
  {
   "cell_type": "code",
   "execution_count": 19,
   "id": "finnish-short",
   "metadata": {},
   "outputs": [
    {
     "data": {
      "text/latex": [
       "$\\displaystyle \\left[\\begin{matrix}\\cos{\\left(\\theta_{1} \\right)} \\cos{\\left(\\theta_{2} + \\theta_{3} \\right)} & - \\sin{\\left(\\theta_{2} + \\theta_{3} \\right)} \\cos{\\left(\\theta_{1} \\right)} & \\sin{\\left(\\theta_{1} \\right)} & \\left(a_{3} \\cos{\\left(\\theta_{2} \\right)} + a_{e} \\cos{\\left(\\theta_{2} + \\theta_{3} \\right)}\\right) \\cos{\\left(\\theta_{1} \\right)}\\\\\\sin{\\left(\\theta_{1} \\right)} \\cos{\\left(\\theta_{2} + \\theta_{3} \\right)} & - \\sin{\\left(\\theta_{1} \\right)} \\sin{\\left(\\theta_{2} + \\theta_{3} \\right)} & - \\cos{\\left(\\theta_{1} \\right)} & \\left(a_{3} \\cos{\\left(\\theta_{2} \\right)} + a_{e} \\cos{\\left(\\theta_{2} + \\theta_{3} \\right)}\\right) \\sin{\\left(\\theta_{1} \\right)}\\\\\\sin{\\left(\\theta_{2} + \\theta_{3} \\right)} & \\cos{\\left(\\theta_{2} + \\theta_{3} \\right)} & 0 & a_{3} \\sin{\\left(\\theta_{2} \\right)} + a_{e} \\sin{\\left(\\theta_{2} + \\theta_{3} \\right)} + d_{1}\\\\0 & 0 & 0 & 1\\end{matrix}\\right]$"
      ],
      "text/plain": [
       "Matrix([\n",
       "[cos(theta1)*cos(theta2 + theta3), -sin(theta2 + theta3)*cos(theta1),  sin(theta1), (a3*cos(theta2) + a_e*cos(theta2 + theta3))*cos(theta1)],\n",
       "[sin(theta1)*cos(theta2 + theta3), -sin(theta1)*sin(theta2 + theta3), -cos(theta1), (a3*cos(theta2) + a_e*cos(theta2 + theta3))*sin(theta1)],\n",
       "[            sin(theta2 + theta3),              cos(theta2 + theta3),            0,          a3*sin(theta2) + a_e*sin(theta2 + theta3) + d1],\n",
       "[                               0,                                 0,            0,                                                       1]])"
      ]
     },
     "execution_count": 19,
     "metadata": {},
     "output_type": "execute_result"
    }
   ],
   "source": [
    "T0e"
   ]
  },
  {
   "cell_type": "code",
   "execution_count": 20,
   "id": "technical-player",
   "metadata": {},
   "outputs": [
    {
     "name": "stdout",
     "output_type": "stream",
     "text": [
      "(a3*cos(theta2) + a_e*cos(theta2 + theta3))*cos(theta1) \n",
      " (a3*cos(theta2) + a_e*cos(theta2 + theta3))*sin(theta1) \n",
      " a3*sin(theta2) + a_e*sin(theta2 + theta3) + d1\n"
     ]
    }
   ],
   "source": [
    "r0e = Matrix([[T0e[3]],[T0e[7]],[T0e[11]]])\n",
    "print(r0e[0],\"\\n\",r0e[1],\"\\n\",r0e[2])"
   ]
  },
  {
   "cell_type": "code",
   "execution_count": 21,
   "id": "interstate-stock",
   "metadata": {},
   "outputs": [],
   "source": [
    "#Determinar los jacobianos de las velocidades lineales\n",
    "Jv1 = diff(r0e,q1)\n",
    "Jv2 = diff(r0e,q2)\n",
    "Jv3 = diff(r0e,q3)\n",
    "J = Matrix([[Jv1,Jv2,Jv3]])"
   ]
  },
  {
   "cell_type": "code",
   "execution_count": 23,
   "id": "corrected-ecuador",
   "metadata": {},
   "outputs": [
    {
     "data": {
      "text/latex": [
       "$\\displaystyle \\left[\\begin{matrix}- \\left(a_{3} \\cos{\\left(\\theta_{2} \\right)} + a_{e} \\cos{\\left(\\theta_{2} + \\theta_{3} \\right)}\\right) \\sin{\\left(\\theta_{1} \\right)}\\\\\\left(a_{3} \\cos{\\left(\\theta_{2} \\right)} + a_{e} \\cos{\\left(\\theta_{2} + \\theta_{3} \\right)}\\right) \\cos{\\left(\\theta_{1} \\right)}\\\\0\\end{matrix}\\right]$"
      ],
      "text/plain": [
       "Matrix([\n",
       "[-(a3*cos(theta2) + a_e*cos(theta2 + theta3))*sin(theta1)],\n",
       "[ (a3*cos(theta2) + a_e*cos(theta2 + theta3))*cos(theta1)],\n",
       "[                                                       0]])"
      ]
     },
     "execution_count": 23,
     "metadata": {},
     "output_type": "execute_result"
    }
   ],
   "source": [
    "Jv1"
   ]
  },
  {
   "cell_type": "code",
   "execution_count": 25,
   "id": "posted-dancing",
   "metadata": {},
   "outputs": [
    {
     "name": "stdout",
     "output_type": "stream",
     "text": [
      "Jv1: \t :  Matrix([[-(a3*cos(theta2) + a_e*cos(theta2 + theta3))*sin(theta1)], [(a3*cos(theta2) + a_e*cos(theta2 + theta3))*cos(theta1)], [0]]) \n",
      " Jv2 \t:  Matrix([[(-a3*sin(theta2) - a_e*sin(theta2 + theta3))*cos(theta1)], [(-a3*sin(theta2) - a_e*sin(theta2 + theta3))*sin(theta1)], [a3*cos(theta2) + a_e*cos(theta2 + theta3)]]) \n",
      " Jv3 \t:  Matrix([[-a_e*sin(theta2 + theta3)*cos(theta1)], [-a_e*sin(theta1)*sin(theta2 + theta3)], [a_e*cos(theta2 + theta3)]])\n"
     ]
    }
   ],
   "source": [
    "print(\"Jv1: \\t : \" ,Jv1,\"\\n Jv2 \\t: \",Jv2, \"\\n Jv3 \\t: \",Jv3)"
   ]
  },
  {
   "cell_type": "code",
   "execution_count": null,
   "id": "spectacular-accreditation",
   "metadata": {},
   "outputs": [],
   "source": []
  },
  {
   "cell_type": "code",
   "execution_count": null,
   "id": "gross-canal",
   "metadata": {},
   "outputs": [],
   "source": []
  }
 ],
 "metadata": {
  "kernelspec": {
   "display_name": "Python 3",
   "language": "python",
   "name": "python3"
  },
  "language_info": {
   "codemirror_mode": {
    "name": "ipython",
    "version": 3
   },
   "file_extension": ".py",
   "mimetype": "text/x-python",
   "name": "python",
   "nbconvert_exporter": "python",
   "pygments_lexer": "ipython3",
   "version": "3.8.6"
  }
 },
 "nbformat": 4,
 "nbformat_minor": 5
}
